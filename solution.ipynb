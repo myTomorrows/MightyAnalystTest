{
 "cells": [
  {
   "cell_type": "markdown",
   "metadata": {},
   "source": [
    "# Mighty Analyst Test \n",
    "\n",
    "This document aims to provide answers to the Mighty Analyst Case provided by the team of MyTomorrows. It consists of 3 parts: \n",
    "- **Task 1:** Providing simple procedure statistics to a client\n",
    "- **Task 2:** Providing information to specific user groups\n",
    "- **Task 3:** Sharing information to senior management & other employees\n",
    "\n",
    "The Case description mentions 3 stages of maturity when it comes to the data architecture: Excel files (included in the case), a postgres database connected to Tableau, and finally dbt. \n",
    "\n",
    "In this solution we will exclude the following: \n",
    "- Setting up a dbt model, as it does require some configuration time.\n",
    "\n",
    "Instead we will use the following setup: \n",
    "- We will mimic the current architecture by uploading all files to a Google BigQuery postgres database, to simulate the current ecosystem\n",
    "- This database will be used both in this notebook to create helper table, and in Tableau to create visualizations based on those helper tables\n",
    "\n",
    "\n",
    "### Note\n",
    "This data was assumed to be free of legal, privacy, security, and intellectual property restrictions, as mentioned in the [source](https://doi.org/10.1093/jamia/ocx079) present in  `input/citation.text`. As such, no precautions were taken to protext access to the data. In a real case scenario, more care would be taken to handle satisfactory security measures to protect patients and clients data."
   ]
  },
  {
   "cell_type": "markdown",
   "metadata": {},
   "source": [
    "### Initial Setup"
   ]
  },
  {
   "cell_type": "code",
   "execution_count": 1,
   "metadata": {},
   "outputs": [
    {
     "name": "stdout",
     "output_type": "stream",
     "text": [
      "Requirement already satisfied: google-api-python-client in /home/edwingelebart/.pyenv/versions/3.11.2/lib/python3.11/site-packages (2.137.0)\n",
      "Requirement already satisfied: google-cloud in /home/edwingelebart/.pyenv/versions/3.11.2/lib/python3.11/site-packages (0.34.0)\n",
      "Requirement already satisfied: google-cloud-bigquery-storage in /home/edwingelebart/.pyenv/versions/3.11.2/lib/python3.11/site-packages (2.25.0)\n",
      "Requirement already satisfied: google-auth in /home/edwingelebart/.pyenv/versions/3.11.2/lib/python3.11/site-packages (2.32.0)\n",
      "Requirement already satisfied: db-dtypes in /home/edwingelebart/.pyenv/versions/3.11.2/lib/python3.11/site-packages (1.2.0)\n",
      "Requirement already satisfied: pandas in /home/edwingelebart/.pyenv/versions/3.11.2/lib/python3.11/site-packages (2.2.2)\n",
      "Requirement already satisfied: pandas-gbq in /home/edwingelebart/.pyenv/versions/3.11.2/lib/python3.11/site-packages (0.23.1)\n",
      "Requirement already satisfied: pip in /home/edwingelebart/.pyenv/versions/3.11.2/lib/python3.11/site-packages (24.1.2)\n",
      "Requirement already satisfied: install in /home/edwingelebart/.pyenv/versions/3.11.2/lib/python3.11/site-packages (1.3.5)\n",
      "Requirement already satisfied: httplib2<1.dev0,>=0.19.0 in /home/edwingelebart/.pyenv/versions/3.11.2/lib/python3.11/site-packages (from google-api-python-client) (0.22.0)\n",
      "Requirement already satisfied: google-auth-httplib2<1.0.0,>=0.2.0 in /home/edwingelebart/.pyenv/versions/3.11.2/lib/python3.11/site-packages (from google-api-python-client) (0.2.0)\n",
      "Requirement already satisfied: google-api-core!=2.0.*,!=2.1.*,!=2.2.*,!=2.3.0,<3.0.0.dev0,>=1.31.5 in /home/edwingelebart/.pyenv/versions/3.11.2/lib/python3.11/site-packages (from google-api-python-client) (2.19.1)\n",
      "Requirement already satisfied: uritemplate<5,>=3.0.1 in /home/edwingelebart/.pyenv/versions/3.11.2/lib/python3.11/site-packages (from google-api-python-client) (4.1.1)\n",
      "Requirement already satisfied: proto-plus<2.0.0dev,>=1.22.0 in /home/edwingelebart/.pyenv/versions/3.11.2/lib/python3.11/site-packages (from google-cloud-bigquery-storage) (1.24.0)\n",
      "Requirement already satisfied: protobuf!=3.20.0,!=3.20.1,!=4.21.0,!=4.21.1,!=4.21.2,!=4.21.3,!=4.21.4,!=4.21.5,<5.0.0dev,>=3.19.5 in /home/edwingelebart/.pyenv/versions/3.11.2/lib/python3.11/site-packages (from google-cloud-bigquery-storage) (4.25.3)\n",
      "Requirement already satisfied: cachetools<6.0,>=2.0.0 in /home/edwingelebart/.pyenv/versions/3.11.2/lib/python3.11/site-packages (from google-auth) (5.3.1)\n",
      "Requirement already satisfied: pyasn1-modules>=0.2.1 in /home/edwingelebart/.pyenv/versions/3.11.2/lib/python3.11/site-packages (from google-auth) (0.4.0)\n",
      "Requirement already satisfied: rsa<5,>=3.1.4 in /home/edwingelebart/.pyenv/versions/3.11.2/lib/python3.11/site-packages (from google-auth) (4.9)\n",
      "Requirement already satisfied: packaging>=17.0 in /home/edwingelebart/.pyenv/versions/3.11.2/lib/python3.11/site-packages (from db-dtypes) (23.1)\n",
      "Requirement already satisfied: pyarrow>=3.0.0 in /home/edwingelebart/.pyenv/versions/3.11.2/lib/python3.11/site-packages (from db-dtypes) (16.1.0)\n",
      "Requirement already satisfied: numpy>=1.16.6 in /home/edwingelebart/.pyenv/versions/3.11.2/lib/python3.11/site-packages (from db-dtypes) (1.24.3)\n",
      "Requirement already satisfied: python-dateutil>=2.8.2 in /home/edwingelebart/.pyenv/versions/3.11.2/lib/python3.11/site-packages (from pandas) (2.8.2)\n",
      "Requirement already satisfied: pytz>=2020.1 in /home/edwingelebart/.pyenv/versions/3.11.2/lib/python3.11/site-packages (from pandas) (2023.3)\n",
      "Requirement already satisfied: tzdata>=2022.7 in /home/edwingelebart/.pyenv/versions/3.11.2/lib/python3.11/site-packages (from pandas) (2023.3)\n",
      "Requirement already satisfied: setuptools in /home/edwingelebart/.local/lib/python3.11/site-packages (from pandas-gbq) (67.8.0)\n",
      "Requirement already satisfied: pydata-google-auth>=1.5.0 in /home/edwingelebart/.pyenv/versions/3.11.2/lib/python3.11/site-packages (from pandas-gbq) (1.8.2)\n",
      "Requirement already satisfied: google-auth-oauthlib>=0.7.0 in /home/edwingelebart/.pyenv/versions/3.11.2/lib/python3.11/site-packages (from pandas-gbq) (1.2.1)\n",
      "Requirement already satisfied: google-cloud-bigquery<4.0.0dev,>=3.3.5 in /home/edwingelebart/.pyenv/versions/3.11.2/lib/python3.11/site-packages (from pandas-gbq) (3.25.0)\n",
      "Requirement already satisfied: googleapis-common-protos<2.0.dev0,>=1.56.2 in /home/edwingelebart/.pyenv/versions/3.11.2/lib/python3.11/site-packages (from google-api-core!=2.0.*,!=2.1.*,!=2.2.*,!=2.3.0,<3.0.0.dev0,>=1.31.5->google-api-python-client) (1.63.2)\n",
      "Requirement already satisfied: requests<3.0.0.dev0,>=2.18.0 in /home/edwingelebart/.local/lib/python3.11/site-packages (from google-api-core!=2.0.*,!=2.1.*,!=2.2.*,!=2.3.0,<3.0.0.dev0,>=1.31.5->google-api-python-client) (2.31.0)\n",
      "Requirement already satisfied: grpcio<2.0dev,>=1.33.2 in /home/edwingelebart/.pyenv/versions/3.11.2/lib/python3.11/site-packages (from google-api-core[grpc]!=2.0.*,!=2.1.*,!=2.10.*,!=2.2.*,!=2.3.*,!=2.4.*,!=2.5.*,!=2.6.*,!=2.7.*,!=2.8.*,!=2.9.*,<3.0.0dev,>=1.34.0->google-cloud-bigquery-storage) (1.64.1)\n",
      "Requirement already satisfied: grpcio-status<2.0.dev0,>=1.33.2 in /home/edwingelebart/.pyenv/versions/3.11.2/lib/python3.11/site-packages (from google-api-core[grpc]!=2.0.*,!=2.1.*,!=2.10.*,!=2.2.*,!=2.3.*,!=2.4.*,!=2.5.*,!=2.6.*,!=2.7.*,!=2.8.*,!=2.9.*,<3.0.0dev,>=1.34.0->google-cloud-bigquery-storage) (1.62.2)\n",
      "Requirement already satisfied: requests-oauthlib>=0.7.0 in /home/edwingelebart/.pyenv/versions/3.11.2/lib/python3.11/site-packages (from google-auth-oauthlib>=0.7.0->pandas-gbq) (2.0.0)\n",
      "Requirement already satisfied: google-cloud-core<3.0.0dev,>=1.6.0 in /home/edwingelebart/.pyenv/versions/3.11.2/lib/python3.11/site-packages (from google-cloud-bigquery<4.0.0dev,>=3.3.5->pandas-gbq) (2.4.1)\n",
      "Requirement already satisfied: google-resumable-media<3.0dev,>=0.6.0 in /home/edwingelebart/.pyenv/versions/3.11.2/lib/python3.11/site-packages (from google-cloud-bigquery<4.0.0dev,>=3.3.5->pandas-gbq) (2.7.1)\n",
      "Requirement already satisfied: pyparsing!=3.0.0,!=3.0.1,!=3.0.2,!=3.0.3,<4,>=2.4.2 in /home/edwingelebart/.pyenv/versions/3.11.2/lib/python3.11/site-packages (from httplib2<1.dev0,>=0.19.0->google-api-python-client) (3.1.2)\n",
      "Requirement already satisfied: pyasn1<0.7.0,>=0.4.6 in /home/edwingelebart/.pyenv/versions/3.11.2/lib/python3.11/site-packages (from pyasn1-modules>=0.2.1->google-auth) (0.6.0)\n",
      "Requirement already satisfied: six>=1.5 in /home/edwingelebart/.pyenv/versions/3.11.2/lib/python3.11/site-packages (from python-dateutil>=2.8.2->pandas) (1.16.0)\n",
      "Requirement already satisfied: google-crc32c<2.0dev,>=1.0 in /home/edwingelebart/.pyenv/versions/3.11.2/lib/python3.11/site-packages (from google-resumable-media<3.0dev,>=0.6.0->google-cloud-bigquery<4.0.0dev,>=3.3.5->pandas-gbq) (1.5.0)\n",
      "Requirement already satisfied: charset-normalizer<4,>=2 in /home/edwingelebart/.local/lib/python3.11/site-packages (from requests<3.0.0.dev0,>=2.18.0->google-api-core!=2.0.*,!=2.1.*,!=2.2.*,!=2.3.0,<3.0.0.dev0,>=1.31.5->google-api-python-client) (3.2.0)\n",
      "Requirement already satisfied: idna<4,>=2.5 in /home/edwingelebart/.local/lib/python3.11/site-packages (from requests<3.0.0.dev0,>=2.18.0->google-api-core!=2.0.*,!=2.1.*,!=2.2.*,!=2.3.0,<3.0.0.dev0,>=1.31.5->google-api-python-client) (3.4)\n",
      "Requirement already satisfied: urllib3<3,>=1.21.1 in /home/edwingelebart/.local/lib/python3.11/site-packages (from requests<3.0.0.dev0,>=2.18.0->google-api-core!=2.0.*,!=2.1.*,!=2.2.*,!=2.3.0,<3.0.0.dev0,>=1.31.5->google-api-python-client) (2.0.3)\n",
      "Requirement already satisfied: certifi>=2017.4.17 in /home/edwingelebart/.local/lib/python3.11/site-packages (from requests<3.0.0.dev0,>=2.18.0->google-api-core!=2.0.*,!=2.1.*,!=2.2.*,!=2.3.0,<3.0.0.dev0,>=1.31.5->google-api-python-client) (2023.5.7)\n",
      "Requirement already satisfied: oauthlib>=3.0.0 in /home/edwingelebart/.pyenv/versions/3.11.2/lib/python3.11/site-packages (from requests-oauthlib>=0.7.0->google-auth-oauthlib>=0.7.0->pandas-gbq) (3.2.2)\n",
      "Note: you may need to restart the kernel to use updated packages.\n"
     ]
    }
   ],
   "source": [
    "# Installing required packages\n",
    "%pip install --upgrade google-api-python-client --upgrade google-cloud --upgrade google-cloud-bigquery-storage google-auth db-dtypes pandas pandas-gbq pip install"
   ]
  },
  {
   "cell_type": "code",
   "execution_count": 2,
   "metadata": {},
   "outputs": [
    {
     "name": "stdout",
     "output_type": "stream",
     "text": [
      "                                     Id                            NAME  \\\n",
      "0  d78e84ec-30aa-3bba-a33a-f29a3a454662  MASSACHUSETTS GENERAL HOSPITAL   \n",
      "\n",
      "           ADDRESS    CITY STATE   ZIP        LAT        LON  \n",
      "0  55 FRUIT STREET  BOSTON    MA  2114  42.362813 -71.069187  \n"
     ]
    }
   ],
   "source": [
    "# Setting up the Postgres database client for future queries\n",
    "from google.cloud import bigquery\n",
    "from google.oauth2 import service_account\n",
    "\n",
    "# Path to your service account key file\n",
    "key_path = 'secrets/service_account_key.json'\n",
    "\n",
    "# Create credentials using the service account key\n",
    "credentials = service_account.Credentials.from_service_account_file(key_path)\n",
    "\n",
    "# Create a BigQuery client\n",
    "client = bigquery.Client(credentials=credentials, project=credentials.project_id)\n",
    "\n",
    "# Execute a test query to showcase how it is used.\n",
    "query = \"\"\"\n",
    "    SELECT * \n",
    "    FROM `mytomorrows-analyst-test.mytomorrows_edwingelebart.dm_organization`\n",
    "\"\"\"\n",
    "query_job = client.query(query)\n",
    "results = query_job.result()\n",
    "df = results.to_dataframe()\n",
    "\n",
    "print(df)"
   ]
  },
  {
   "cell_type": "markdown",
   "metadata": {},
   "source": [
    "### Task 1: Providing simple procedure statistics to a client\n",
    "\n",
    "**Description:** The client (United Healthcare) asks you to prep the data, and create some visualizations to get some more information on the data that is present. They would like to see the procedures ordered by total cost and and a visualization showing the amount of times procedures have been performed ordered from most held, to least held. We would also like you to give extracts of the data that is used in the visualtions (so the raw data behind the visualizations). Finally we would like to receive a graph showing patients, who follow the same procedures that are our top held procedures from our clients' patients. "
   ]
  },
  {
   "cell_type": "markdown",
   "metadata": {},
   "source": [
    "#### Solution\n",
    "\n",
    "To enable these mulitiple graphs to be created, we will create a helper table providing us with all the information needed. "
   ]
  },
  {
   "cell_type": "code",
   "execution_count": 3,
   "metadata": {},
   "outputs": [],
   "source": [
    "# Create a helper table augmenting the procedure table, adding useful columns\n",
    "with open('queries/helper_procedures.sql', 'r') as file:\n",
    "    query = file.read()\n",
    "\n",
    "query_job = client.query(query)"
   ]
  },
  {
   "cell_type": "markdown",
   "metadata": {},
   "source": [
    "This table created a new table with the necessary columns. You can find the visualisations created for Task #1 in tab **Overview of Procedures** [here](https://public.tableau.com/app/profile/edwin.gelebart/viz/myTomororrows-MightyAnalystTest/OverviewofProcedure?publish=yes). It contains: \n",
    "1. A view showing both the total cost per procedure and the amount of times it was made.\n",
    "2. A parameter allows the user to select which field is used to order the procedures.\n",
    "3. In tab **Procedures - Raw Extract**, you can access and download the raw data used in the vizualisations. This can be done by using the _Download_ button on the top right of the screen.\n",
    "4. A view showing other patients than the current client (United Healthcare) and the potential of their top procedures.\n",
    "\n",
    "##### Note\n",
    "- The base cost is assumed to be in dollars, without indications of unit. \n",
    "- Some procedure were found to have very similar names, with a few differences in the naming. Those could be combined, potentially showing a different ordering. In the absence of such request, I assumed those similar procedures should be considered as different\n",
    "- The current dashboard technically includes the data of other clients. This is to show the way the dashboard works for all clients. To satisfy the asked feature, we could simply hide this filter from the dahsboard. More info on this client data access logic in Task #2.\n",
    "- The last part of the assignment `we would like to receive a graph showing patients, who follow the same procedures that are our top held procedures from our clients' patients` is ambiguous. It was intepreted as showing the number of clients taking part on the top X procedures of the current client with competitors. "
   ]
  },
  {
   "cell_type": "markdown",
   "metadata": {},
   "source": [
    "### Task 2: Providing information to specific user groups\n",
    "\n",
    "**Description:** Since we are already delivering a report to one of our clients, we cannot leave out the other client. They want to have information of the hospital doing the insurances and the amount of patients they help in a specific time frame. They consist of a quite a large team where each of the members has different specialty (procedure that they know everything of). They would like to easily select their own specialty as to not have to look at data of others. Its important to know that one of the specialties (hospice treatments) cannot be displayed to members with a different specialty."
   ]
  },
  {
   "cell_type": "markdown",
   "metadata": {},
   "source": [
    "#### Solution\n",
    "\n",
    "There is quite some ambiguity in the question. We will decouple this question into multiple parts so that we can answer each element seperately: \n",
    "\n",
    "##### Part #1: Extending the report to other client\n",
    "Such dashboards can be very useful for clients to understand their data, and guide them more towards understandibiltiy of patients needs. It is therefore crucial that all clients are enabled to do so. \n",
    "In this particular case, I would rely on 2 options: \n",
    "- **Set up access-controlled folders in the Tableau server** This setup would rely on central datasources accesible by all, \n",
    "which are filtered at the data ingestion stage of the tableau dashboard creation. This would lower the maintenance efforts on the data structure side, as all changes would be direclty effective to all clients.\n",
    "- If more personalisation is needed for specific clients, we could **Set up parameterized data models in dbt or SQL**. This option would deduplicate the logic for backend tables per client, enabling custom logics and clearer boundaries of data storage. I would however advise using this setup in niche needs of clients, as the maintenance costs on both data modeling (dbt) and data visualization (tableau) would be high.\n",
    "\n",
    "##### Part #2: Information on Hospital specific data\n",
    "The current dataset contains only one organization or hospital: the Massachusetts General Hospital. It is included as being part of the filters on which one can filter on in the dashboard provided at Task #1. We could envision having more specific information available on hospital level. One option we can already do is to enable the dashboard user to select the level of detail they are interested in. That is why a parameter `Level of Detail` was introduced in the dashboard shared in Task #1, enabling users to select on which granularity the different metrics are needed. For now I have included Procedure (default), hopsitals, and patients. \n",
    "\n",
    "##### Part #3: Information on Patients Helped\n",
    "This information was also added to the dashboard in Task #1, showing per procedure, how many distinct patients were helped, as well as an overall number on the right side. Date filters are also included, enabling users to select a specific time frame based on the start and end dates of procedures.\n",
    "\n",
    "##### Part #4: Speciality-specific information\n",
    "On top of adding a procedure filter, we could also control what data each team member sees, based on their role. Tableau has functionalities to implement specific data access on data rows (called Row Level Security), which enables us to rely on one interface for all users, making it easier to maintain, while ensuring that noone sees data that they shouldn't see. Here, implementing a list of allowed users enabled to see Hospice treatments, and integrating it into the dashboard could ensure that only this group sees this very critical information."
   ]
  },
  {
   "cell_type": "markdown",
   "metadata": {},
   "source": [
    "### Task 3: Sharing information to senior management & other employees\n",
    "We would like to have reports for senior management, preferably with as much detail as possible. We would like to be able to have extracts of the visualized data as well. Only senior management is allowed to see these visualisations, whereas other employees in the org are allowed to have access to the raw extracts. One visualization should be about the data of our clients, how many patients we have helped from specific areas. Possibly to identify any relationship between the area of residence and the preocedures that are being performed. The other graphs we would like to see are non-client related, we would like to see if there are any patients grouped together that are not affeliated to any of our clients, but are in close proximity of patients who are in contact with our clients."
   ]
  },
  {
   "cell_type": "markdown",
   "metadata": {},
   "source": [
    "#### Solution\n",
    "\n",
    "To enable the dual usage of this need, we will need to create a helper datatable in our postgres database, which is used by both usergroups in different dashboards. \n",
    "\n",
    "Tableau dashboards access can be managed by creating Access Controlled folders, enabling us to provide tailored view for different people within our organization. In this particular case, I would recommend doing 1 unique dashboard containing the views for all stakeholders, and hide specific views upon uploading to the different tableau folders. For the sake of this exercise, we will only create one dashboard. \n",
    "\n",
    "To help us in displaying these information, we will create a helper table for encounters, before linking it together with the patient table of our postgres database in Tableau. A patient can be affiliated to multiple clients of ours, so keeping that N-to-M relationship in Tableau can be useful. "
   ]
  },
  {
   "cell_type": "code",
   "execution_count": 4,
   "metadata": {},
   "outputs": [],
   "source": [
    "# Create a helper table augmenting the procedure table, adding useful columns\n",
    "with open('queries/helper_encounters.sql', 'r') as file:\n",
    "    query = file.read()\n",
    "\n",
    "query_job = client.query(query)"
   ]
  },
  {
   "cell_type": "markdown",
   "metadata": {},
   "source": [
    "The Tableau Dashboard can be found [here](). It contains: \n",
    "- A main view destined to the senior Management team, showing overall statistics on the clients ecosystem. It shows \n",
    "    - Simple metrics on number of patients, encounters, claim cost and client costs\n",
    "    - A view showing per Zone the different metrics. It should help identify potential spatial opportunities. This view can be changed to show the right data by changing the metric used (one of the 4 presented above) and the granularity (Patient, Zip Code, cities).\n",
    "    - A view showing the potential of clients in the Zip codes where they currently are operating. The size of the circle shows the Competitors market, while the color indicates the market share of our clients. The tool tip contains further information on the exact details.\n",
    "- An extract view displaying all data used in the other views. Note: for other teams than the Senior Management team, this view will be the only one shown.\n",
    "\n",
    "**Note:**\n",
    "- Some lat/long points seem to be in the middle of the water on the map. A quick look on internet reveals that most of these addresses do not exist. It was therefore assumed this is due to low accuracy of this test data. These datapoints were not excluded, though it would be investigated further if it happened to be the case in production data. \n",
    "- The closeness of patients was determined whether they were part of the same zip code. We could with real data calculate the flying or driving distance and use those indicators as a better measure. \n"
   ]
  }
 ],
 "metadata": {
  "kernelspec": {
   "display_name": "Python 3",
   "language": "python",
   "name": "python3"
  },
  "language_info": {
   "codemirror_mode": {
    "name": "ipython",
    "version": 3
   },
   "file_extension": ".py",
   "mimetype": "text/x-python",
   "name": "python",
   "nbconvert_exporter": "python",
   "pygments_lexer": "ipython3",
   "version": "3.11.2"
  }
 },
 "nbformat": 4,
 "nbformat_minor": 2
}
